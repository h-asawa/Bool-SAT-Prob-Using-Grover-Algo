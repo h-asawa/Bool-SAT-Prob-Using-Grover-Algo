{
  "nbformat": 4,
  "nbformat_minor": 0,
  "metadata": {
    "colab": {
      "name": "GroverProject.ipynb",
      "provenance": [],
      "collapsed_sections": [],
      "include_colab_link": true
    },
    "kernelspec": {
      "name": "python3",
      "display_name": "Python 3"
    },
    "language_info": {
      "name": "python"
    }
  },
  "cells": [
    {
      "cell_type": "markdown",
      "metadata": {
        "id": "view-in-github",
        "colab_type": "text"
      },
      "source": [
        "<a href=\"https://colab.research.google.com/github/h-asawa/Bool-SAT-Prob-Using-Grover-Algo/blob/main/GroverProject.ipynb\" target=\"_parent\"><img src=\"https://colab.research.google.com/assets/colab-badge.svg\" alt=\"Open In Colab\"/></a>"
      ]
    },
    {
      "cell_type": "code",
      "execution_count": null,
      "metadata": {
        "colab": {
          "base_uri": "https://localhost:8080/"
        },
        "id": "F0IicLhU03Dx",
        "outputId": "f077a300-a0aa-412e-b4fb-b16b4dec6dbb"
      },
      "outputs": [
        {
          "output_type": "stream",
          "name": "stdout",
          "text": [
            "Looking in indexes: https://pypi.org/simple, https://us-python.pkg.dev/colab-wheels/public/simple/\n",
            "Collecting qiskit\n",
            "  Downloading qiskit-0.36.2.tar.gz (13 kB)\n",
            "Collecting qiskit-terra==0.20.2\n",
            "  Downloading qiskit_terra-0.20.2-cp37-cp37m-manylinux_2_17_x86_64.manylinux2014_x86_64.whl (6.5 MB)\n",
            "\u001b[K     |████████████████████████████████| 6.5 MB 7.2 MB/s \n",
            "\u001b[?25hCollecting qiskit-aer==0.10.4\n",
            "  Downloading qiskit_aer-0.10.4-cp37-cp37m-manylinux_2_12_x86_64.manylinux2010_x86_64.whl (18.0 MB)\n",
            "\u001b[K     |████████████████████████████████| 18.0 MB 348 kB/s \n",
            "\u001b[?25hCollecting qiskit-ibmq-provider==0.19.1\n",
            "  Downloading qiskit_ibmq_provider-0.19.1-py3-none-any.whl (240 kB)\n",
            "\u001b[K     |████████████████████████████████| 240 kB 55.6 MB/s \n",
            "\u001b[?25hCollecting qiskit-ignis==0.7.1\n",
            "  Downloading qiskit_ignis-0.7.1-py3-none-any.whl (198 kB)\n",
            "\u001b[K     |████████████████████████████████| 198 kB 57.9 MB/s \n",
            "\u001b[?25hRequirement already satisfied: numpy>=1.16.3 in /usr/local/lib/python3.7/dist-packages (from qiskit-aer==0.10.4->qiskit) (1.21.6)\n",
            "Requirement already satisfied: scipy>=1.0 in /usr/local/lib/python3.7/dist-packages (from qiskit-aer==0.10.4->qiskit) (1.4.1)\n",
            "Collecting websocket-client>=1.0.1\n",
            "  Downloading websocket_client-1.3.2-py3-none-any.whl (54 kB)\n",
            "\u001b[K     |████████████████████████████████| 54 kB 2.7 MB/s \n",
            "\u001b[?25hCollecting websockets>=10.0\n",
            "  Downloading websockets-10.3-cp37-cp37m-manylinux_2_5_x86_64.manylinux1_x86_64.manylinux_2_12_x86_64.manylinux2010_x86_64.whl (112 kB)\n",
            "\u001b[K     |████████████████████████████████| 112 kB 56.1 MB/s \n",
            "\u001b[?25hRequirement already satisfied: urllib3>=1.21.1 in /usr/local/lib/python3.7/dist-packages (from qiskit-ibmq-provider==0.19.1->qiskit) (1.24.3)\n",
            "Requirement already satisfied: python-dateutil>=2.8.0 in /usr/local/lib/python3.7/dist-packages (from qiskit-ibmq-provider==0.19.1->qiskit) (2.8.2)\n",
            "Collecting requests-ntlm>=1.1.0\n",
            "  Downloading requests_ntlm-1.1.0-py2.py3-none-any.whl (5.7 kB)\n",
            "Requirement already satisfied: requests>=2.19 in /usr/local/lib/python3.7/dist-packages (from qiskit-ibmq-provider==0.19.1->qiskit) (2.23.0)\n",
            "Collecting retworkx>=0.8.0\n",
            "  Downloading retworkx-0.11.0-cp37-cp37m-manylinux_2_5_x86_64.manylinux1_x86_64.manylinux_2_12_x86_64.manylinux2010_x86_64.whl (1.6 MB)\n",
            "\u001b[K     |████████████████████████████████| 1.6 MB 73.6 MB/s \n",
            "\u001b[?25hRequirement already satisfied: setuptools>=40.1.0 in /usr/local/lib/python3.7/dist-packages (from qiskit-ignis==0.7.1->qiskit) (57.4.0)\n",
            "Collecting python-constraint>=1.4\n",
            "  Downloading python-constraint-1.4.0.tar.bz2 (18 kB)\n",
            "Requirement already satisfied: dill>=0.3 in /usr/local/lib/python3.7/dist-packages (from qiskit-terra==0.20.2->qiskit) (0.3.5.1)\n",
            "Collecting stevedore>=3.0.0\n",
            "  Downloading stevedore-3.5.0-py3-none-any.whl (49 kB)\n",
            "\u001b[K     |████████████████████████████████| 49 kB 6.6 MB/s \n",
            "\u001b[?25hCollecting ply>=3.10\n",
            "  Downloading ply-3.11-py2.py3-none-any.whl (49 kB)\n",
            "\u001b[K     |████████████████████████████████| 49 kB 6.2 MB/s \n",
            "\u001b[?25hRequirement already satisfied: sympy>=1.3 in /usr/local/lib/python3.7/dist-packages (from qiskit-terra==0.20.2->qiskit) (1.7.1)\n",
            "Requirement already satisfied: psutil>=5 in /usr/local/lib/python3.7/dist-packages (from qiskit-terra==0.20.2->qiskit) (5.4.8)\n",
            "Collecting tweedledum<2.0,>=1.1\n",
            "  Downloading tweedledum-1.1.1-cp37-cp37m-manylinux_2_12_x86_64.manylinux2010_x86_64.whl (943 kB)\n",
            "\u001b[K     |████████████████████████████████| 943 kB 48.1 MB/s \n",
            "\u001b[?25hCollecting symengine>=0.9\n",
            "  Downloading symengine-0.9.2-cp37-cp37m-manylinux2010_x86_64.whl (37.5 MB)\n",
            "\u001b[K     |████████████████████████████████| 37.5 MB 51 kB/s \n",
            "\u001b[?25hCollecting scipy>=1.0\n",
            "  Downloading scipy-1.7.3-cp37-cp37m-manylinux_2_12_x86_64.manylinux2010_x86_64.whl (38.1 MB)\n",
            "\u001b[K     |████████████████████████████████| 38.1 MB 112 kB/s \n",
            "\u001b[?25hRequirement already satisfied: six>=1.5 in /usr/local/lib/python3.7/dist-packages (from python-dateutil>=2.8.0->qiskit-ibmq-provider==0.19.1->qiskit) (1.15.0)\n",
            "Requirement already satisfied: chardet<4,>=3.0.2 in /usr/local/lib/python3.7/dist-packages (from requests>=2.19->qiskit-ibmq-provider==0.19.1->qiskit) (3.0.4)\n",
            "Requirement already satisfied: idna<3,>=2.5 in /usr/local/lib/python3.7/dist-packages (from requests>=2.19->qiskit-ibmq-provider==0.19.1->qiskit) (2.10)\n",
            "Requirement already satisfied: certifi>=2017.4.17 in /usr/local/lib/python3.7/dist-packages (from requests>=2.19->qiskit-ibmq-provider==0.19.1->qiskit) (2022.5.18.1)\n",
            "Collecting ntlm-auth>=1.0.2\n",
            "  Downloading ntlm_auth-1.5.0-py2.py3-none-any.whl (29 kB)\n",
            "Collecting cryptography>=1.3\n",
            "  Downloading cryptography-37.0.2-cp36-abi3-manylinux_2_24_x86_64.whl (4.0 MB)\n",
            "\u001b[K     |████████████████████████████████| 4.0 MB 53.1 MB/s \n",
            "\u001b[?25hRequirement already satisfied: cffi>=1.12 in /usr/local/lib/python3.7/dist-packages (from cryptography>=1.3->requests-ntlm>=1.1.0->qiskit-ibmq-provider==0.19.1->qiskit) (1.15.0)\n",
            "Requirement already satisfied: pycparser in /usr/local/lib/python3.7/dist-packages (from cffi>=1.12->cryptography>=1.3->requests-ntlm>=1.1.0->qiskit-ibmq-provider==0.19.1->qiskit) (2.21)\n",
            "Requirement already satisfied: importlib-metadata>=1.7.0 in /usr/local/lib/python3.7/dist-packages (from stevedore>=3.0.0->qiskit-terra==0.20.2->qiskit) (4.11.4)\n",
            "Collecting pbr!=2.1.0,>=2.0.0\n",
            "  Downloading pbr-5.9.0-py2.py3-none-any.whl (112 kB)\n",
            "\u001b[K     |████████████████████████████████| 112 kB 67.9 MB/s \n",
            "\u001b[?25hRequirement already satisfied: typing-extensions>=3.6.4 in /usr/local/lib/python3.7/dist-packages (from importlib-metadata>=1.7.0->stevedore>=3.0.0->qiskit-terra==0.20.2->qiskit) (4.2.0)\n",
            "Requirement already satisfied: zipp>=0.5 in /usr/local/lib/python3.7/dist-packages (from importlib-metadata>=1.7.0->stevedore>=3.0.0->qiskit-terra==0.20.2->qiskit) (3.8.0)\n",
            "Requirement already satisfied: mpmath>=0.19 in /usr/local/lib/python3.7/dist-packages (from sympy>=1.3->qiskit-terra==0.20.2->qiskit) (1.2.1)\n",
            "Building wheels for collected packages: qiskit, python-constraint\n",
            "  Building wheel for qiskit (setup.py) ... \u001b[?25l\u001b[?25hdone\n",
            "  Created wheel for qiskit: filename=qiskit-0.36.2-py3-none-any.whl size=11933 sha256=bff28ee81b28870a286d69046b9c4dfafc7aeb2347b30057fce1b2ee0ba6d6ef\n",
            "  Stored in directory: /root/.cache/pip/wheels/36/f7/83/e2755ad17aa35bc145fce34e184aaf394a265a978d95caaabf\n",
            "  Building wheel for python-constraint (setup.py) ... \u001b[?25l\u001b[?25hdone\n",
            "  Created wheel for python-constraint: filename=python_constraint-1.4.0-py2.py3-none-any.whl size=24081 sha256=4ca535813676b70ffd98c01dd7a69e2cc33ab2615876e7542b1b6b01bcb4e3c3\n",
            "  Stored in directory: /root/.cache/pip/wheels/07/27/db/1222c80eb1e431f3d2199c12569cb1cac60f562a451fe30479\n",
            "Successfully built qiskit python-constraint\n",
            "Installing collected packages: pbr, tweedledum, symengine, stevedore, scipy, retworkx, python-constraint, ply, ntlm-auth, cryptography, websockets, websocket-client, requests-ntlm, qiskit-terra, qiskit-ignis, qiskit-ibmq-provider, qiskit-aer, qiskit\n",
            "  Attempting uninstall: scipy\n",
            "    Found existing installation: scipy 1.4.1\n",
            "    Uninstalling scipy-1.4.1:\n",
            "      Successfully uninstalled scipy-1.4.1\n",
            "\u001b[31mERROR: pip's dependency resolver does not currently take into account all the packages that are installed. This behaviour is the source of the following dependency conflicts.\n",
            "albumentations 0.1.12 requires imgaug<0.2.7,>=0.2.5, but you have imgaug 0.2.9 which is incompatible.\u001b[0m\n",
            "Successfully installed cryptography-37.0.2 ntlm-auth-1.5.0 pbr-5.9.0 ply-3.11 python-constraint-1.4.0 qiskit-0.36.2 qiskit-aer-0.10.4 qiskit-ibmq-provider-0.19.1 qiskit-ignis-0.7.1 qiskit-terra-0.20.2 requests-ntlm-1.1.0 retworkx-0.11.0 scipy-1.7.3 stevedore-3.5.0 symengine-0.9.2 tweedledum-1.1.1 websocket-client-1.3.2 websockets-10.3\n"
          ]
        }
      ],
      "source": [
        "pip install qiskit"
      ]
    },
    {
      "cell_type": "code",
      "source": [
        "\n",
        "# importing Qiskit\n",
        "from qiskit import Aer, transpile, assemble, BasicAer\n",
        "from qiskit.circuit import QuantumCircuit\n",
        "from qiskit.circuit.library import Diagonal\n",
        "# import basic plot tools\n",
        "from qiskit.visualization import plot_histogram\n",
        "\n",
        "#import Statevector\n",
        "from qiskit.quantum_info import Statevector\n",
        "\n",
        "#importing execute\n",
        "from qiskit.execute_function import execute"
      ],
      "metadata": {
        "id": "C_A3CQFr1IZx"
      },
      "execution_count": null,
      "outputs": []
    },
    {
      "cell_type": "code",
      "source": [
        "qc = QuantumCircuit(5)\n",
        "\n",
        "i = 1\n",
        "j = 1\n",
        "\n",
        "#marking the states 11000,11001,11010,11011,11110.\n",
        "sol1 = Statevector.from_label(str(i) + str(j) + '000')\n",
        "sol1_circ = Diagonal((-1)**sol1.data)\n",
        "qc += sol1_circ\n",
        "\n",
        "sol2 = Statevector.from_label(str(i) + str(j) + '001')\n",
        "sol2_circ = Diagonal((-1)**sol2.data)\n",
        "qc += sol2_circ\n",
        "\n",
        "sol3 = Statevector.from_label(str(i) + str(j) + '010')\n",
        "sol3_circ = Diagonal((-1)**sol3.data)\n",
        "qc += sol3_circ\n",
        "\n",
        "sol4 = Statevector.from_label(str(i) + str(j) + '011')\n",
        "sol4_circ = Diagonal((-1)**sol4.data)\n",
        "qc += sol4_circ\n",
        "\n",
        "sol5 = Statevector.from_label(str(i) + str(j) + '110')\n",
        "sol5_circ = Diagonal((-1)**sol5.data)\n",
        "qc += sol5_circ \n",
        "\n",
        "#return oracle as a gate\n",
        "oracle_ex3 = qc.to_gate()\n",
        "qc.draw()"
      ],
      "metadata": {
        "id": "SWHiq7CK5Qwn",
        "colab": {
          "base_uri": "https://localhost:8080/",
          "height": 389
        },
        "outputId": "d69ffdf8-b4fe-423f-833e-4bc7525db403"
      },
      "execution_count": null,
      "outputs": [
        {
          "output_type": "stream",
          "name": "stdout",
          "text": [
            "[1.+0.j 0.+0.j 0.+0.j 0.+0.j 0.+0.j 0.+0.j 0.+0.j 0.+0.j 0.+0.j 0.+0.j\n",
            " 0.+0.j 0.+0.j 0.+0.j 0.+0.j 0.+0.j 0.+0.j 0.+0.j 0.+0.j 0.+0.j 0.+0.j\n",
            " 0.+0.j 0.+0.j 0.+0.j 0.+0.j 0.+0.j 0.+0.j 0.+0.j 0.+0.j 0.+0.j 0.+0.j\n",
            " 0.+0.j 0.+0.j]\n"
          ]
        },
        {
          "output_type": "stream",
          "name": "stderr",
          "text": [
            "/usr/local/lib/python3.7/dist-packages/ipykernel_launcher.py:16: DeprecationWarning: The QuantumCircuit.__iadd__() method is being deprecated. Use the compose() (potentially with the inplace=True argument) and tensor() methods which are more flexible w.r.t circuit register compatibility.\n",
            "  app.launch_new_instance()\n",
            "/usr/local/lib/python3.7/dist-packages/ipykernel_launcher.py:20: DeprecationWarning: The QuantumCircuit.__iadd__() method is being deprecated. Use the compose() (potentially with the inplace=True argument) and tensor() methods which are more flexible w.r.t circuit register compatibility.\n",
            "/usr/local/lib/python3.7/dist-packages/ipykernel_launcher.py:24: DeprecationWarning: The QuantumCircuit.__iadd__() method is being deprecated. Use the compose() (potentially with the inplace=True argument) and tensor() methods which are more flexible w.r.t circuit register compatibility.\n",
            "/usr/local/lib/python3.7/dist-packages/ipykernel_launcher.py:28: DeprecationWarning: The QuantumCircuit.__iadd__() method is being deprecated. Use the compose() (potentially with the inplace=True argument) and tensor() methods which are more flexible w.r.t circuit register compatibility.\n",
            "/usr/local/lib/python3.7/dist-packages/ipykernel_launcher.py:32: DeprecationWarning: The QuantumCircuit.__iadd__() method is being deprecated. Use the compose() (potentially with the inplace=True argument) and tensor() methods which are more flexible w.r.t circuit register compatibility.\n"
          ]
        },
        {
          "output_type": "execute_result",
          "data": {
            "text/plain": [
              "     ┌───────────┐┌───────────┐┌───────────┐┌───────────┐┌───────────┐\n",
              "q_0: ┤0          ├┤0          ├┤0          ├┤0          ├┤0          ├\n",
              "     │           ││           ││           ││           ││           │\n",
              "q_1: ┤1          ├┤1          ├┤1          ├┤1          ├┤1          ├\n",
              "     │           ││           ││           ││           ││           │\n",
              "q_2: ┤2 Diagonal ├┤2 Diagonal ├┤2 Diagonal ├┤2 Diagonal ├┤2 Diagonal ├\n",
              "     │           ││           ││           ││           ││           │\n",
              "q_3: ┤3          ├┤3          ├┤3          ├┤3          ├┤3          ├\n",
              "     │           ││           ││           ││           ││           │\n",
              "q_4: ┤4          ├┤4          ├┤4          ├┤4          ├┤4          ├\n",
              "     └───────────┘└───────────┘└───────────┘└───────────┘└───────────┘"
            ],
            "text/html": [
              "<pre style=\"word-wrap: normal;white-space: pre;background: #fff0;line-height: 1.1;font-family: &quot;Courier New&quot;,Courier,monospace\">     ┌───────────┐┌───────────┐┌───────────┐┌───────────┐┌───────────┐\n",
              "q_0: ┤0          ├┤0          ├┤0          ├┤0          ├┤0          ├\n",
              "     │           ││           ││           ││           ││           │\n",
              "q_1: ┤1          ├┤1          ├┤1          ├┤1          ├┤1          ├\n",
              "     │           ││           ││           ││           ││           │\n",
              "q_2: ┤2 Diagonal ├┤2 Diagonal ├┤2 Diagonal ├┤2 Diagonal ├┤2 Diagonal ├\n",
              "     │           ││           ││           ││           ││           │\n",
              "q_3: ┤3          ├┤3          ├┤3          ├┤3          ├┤3          ├\n",
              "     │           ││           ││           ││           ││           │\n",
              "q_4: ┤4          ├┤4          ├┤4          ├┤4          ├┤4          ├\n",
              "     └───────────┘└───────────┘└───────────┘└───────────┘└───────────┘</pre>"
            ]
          },
          "metadata": {},
          "execution_count": 3
        }
      ]
    },
    {
      "cell_type": "code",
      "source": [
        "#creating a general diffuser for 5 qubits to be appended\n",
        "\n",
        "def diffuser():\n",
        "    qc = QuantumCircuit(5)\n",
        "    # H-gates\n",
        "    for qubit in range(5):\n",
        "        qc.h(qubit)\n",
        "    # X-gates\n",
        "    for qubit in range(5):\n",
        "        qc.x(qubit)\n",
        "    # Multi-controlled-Z gate\n",
        "    qc.h(4)\n",
        "    qc.mct(list(range(4)), 4)  # multi-controlled-toffoli\n",
        "    qc.h(4)\n",
        "    # X gates\n",
        "    for qubit in range(5):\n",
        "        qc.x(qubit)\n",
        "    # H gates\n",
        "    for qubit in range(5):\n",
        "        qc.h(qubit)\n",
        "    # return diffuser as a gate\n",
        "    U_s = qc.to_gate()\n",
        "    return U_s"
      ],
      "metadata": {
        "id": "lfv6TSAW1Jb7"
      },
      "execution_count": null,
      "outputs": []
    },
    {
      "cell_type": "code",
      "source": [
        "def initialize_s(qc, qubits):\n",
        "    #apply H gate to all qubits in qc.\n",
        "    for q in qubits:\n",
        "        qc.h(q)\n",
        "    return qc\n",
        "n = 5\n",
        "grover_circuit = QuantumCircuit(n)\n",
        "grover_circuit = initialize_s(grover_circuit, [0,1,2,3,4])\n",
        "grover_circuit.append(qc, [0,1,2,3,4])\n",
        "grover_circuit.append(diffuser(), [0,1,2,3,4])\n",
        "grover_circuit.append(qc, [0,1,2,3,4])\n",
        "grover_circuit.append(diffuser(), [0,1,2,3,4])\n",
        "\n",
        "#using state vector simulator to calculate amplitude of states prior to measurement\n",
        "backend = BasicAer.get_backend('statevector_simulator')\n",
        "job = execute(grover_circuit,backend)\n",
        "result = job.result()\n",
        "state_vector = result.get_statevector()\n",
        "print(state_vector)\n",
        "\n",
        "grover_circuit.measure_all()\n",
        "grover_circuit.draw()"
      ],
      "metadata": {
        "colab": {
          "base_uri": "https://localhost:8080/",
          "height": 709
        },
        "id": "kTMdNPh753E4",
        "outputId": "eaf1d60b-b4de-47f8-ab43-8c91d16ce2b3"
      },
      "execution_count": null,
      "outputs": [
        {
          "output_type": "stream",
          "name": "stdout",
          "text": [
            "[-0.08562621-2.42501059e-16j -0.08562621-9.35547008e-18j\n",
            " -0.08562621-2.48344211e-16j -0.08562621-6.20451998e-17j\n",
            " -0.08562621+1.71931426e-17j -0.08562621-2.95749726e-16j\n",
            " -0.08562621-3.15911873e-16j -0.08562621-2.28124576e-16j\n",
            " -0.08562621-3.46119587e-16j -0.08562621-3.19872759e-16j\n",
            " -0.08562621-4.70598763e-16j -0.08562621-6.73335434e-16j\n",
            " -0.08562621-1.48553544e-16j -0.08562621-3.86436636e-16j\n",
            " -0.08562621-3.95859073e-16j -0.08562621-3.83388103e-16j\n",
            " -0.08562621+4.12731355e-17j -0.08562621-3.22778933e-17j\n",
            " -0.08562621-1.81867211e-16j -0.08562621-1.14896595e-16j\n",
            " -0.08562621-4.14792712e-17j -0.08562621-1.58747825e-16j\n",
            " -0.08562621+3.66164742e-18j -0.08562621-2.29842422e-16j\n",
            "  0.4005097 +4.00172955e-16j  0.4005097 +5.09234559e-16j\n",
            "  0.4005097 +1.00690526e-15j  0.4005097 +7.03102673e-16j\n",
            " -0.08562621-4.03088521e-16j -0.08562621-1.20102619e-16j\n",
            "  0.4005097 +1.13686294e-15j -0.08562621-3.86829120e-16j]\n"
          ]
        },
        {
          "output_type": "execute_result",
          "data": {
            "text/plain": [
              "        ┌───┐┌────────────┐┌───────────────┐┌────────────┐┌───────────────┐ ░ »\n",
              "   q_0: ┤ H ├┤0           ├┤0              ├┤0           ├┤0              ├─░─»\n",
              "        ├───┤│            ││               ││            ││               │ ░ »\n",
              "   q_1: ┤ H ├┤1           ├┤1              ├┤1           ├┤1              ├─░─»\n",
              "        ├───┤│            ││               ││            ││               │ ░ »\n",
              "   q_2: ┤ H ├┤2 circuit-0 ├┤2 circuit-2418 ├┤2 circuit-0 ├┤2 circuit-2423 ├─░─»\n",
              "        ├───┤│            ││               ││            ││               │ ░ »\n",
              "   q_3: ┤ H ├┤3           ├┤3              ├┤3           ├┤3              ├─░─»\n",
              "        ├───┤│            ││               ││            ││               │ ░ »\n",
              "   q_4: ┤ H ├┤4           ├┤4              ├┤4           ├┤4              ├─░─»\n",
              "        └───┘└────────────┘└───────────────┘└────────────┘└───────────────┘ ░ »\n",
              "meas: 5/══════════════════════════════════════════════════════════════════════»\n",
              "                                                                              »\n",
              "«        ┌─┐            \n",
              "«   q_0: ┤M├────────────\n",
              "«        └╥┘┌─┐         \n",
              "«   q_1: ─╫─┤M├─────────\n",
              "«         ║ └╥┘┌─┐      \n",
              "«   q_2: ─╫──╫─┤M├──────\n",
              "«         ║  ║ └╥┘┌─┐   \n",
              "«   q_3: ─╫──╫──╫─┤M├───\n",
              "«         ║  ║  ║ └╥┘┌─┐\n",
              "«   q_4: ─╫──╫──╫──╫─┤M├\n",
              "«         ║  ║  ║  ║ └╥┘\n",
              "«meas: 5/═╩══╩══╩══╩══╩═\n",
              "«         0  1  2  3  4 "
            ],
            "text/html": [
              "<pre style=\"word-wrap: normal;white-space: pre;background: #fff0;line-height: 1.1;font-family: &quot;Courier New&quot;,Courier,monospace\">        ┌───┐┌────────────┐┌───────────────┐┌────────────┐┌───────────────┐ ░ »\n",
              "   q_0: ┤ H ├┤0           ├┤0              ├┤0           ├┤0              ├─░─»\n",
              "        ├───┤│            ││               ││            ││               │ ░ »\n",
              "   q_1: ┤ H ├┤1           ├┤1              ├┤1           ├┤1              ├─░─»\n",
              "        ├───┤│            ││               ││            ││               │ ░ »\n",
              "   q_2: ┤ H ├┤2 circuit-0 ├┤2 circuit-2418 ├┤2 circuit-0 ├┤2 circuit-2423 ├─░─»\n",
              "        ├───┤│            ││               ││            ││               │ ░ »\n",
              "   q_3: ┤ H ├┤3           ├┤3              ├┤3           ├┤3              ├─░─»\n",
              "        ├───┤│            ││               ││            ││               │ ░ »\n",
              "   q_4: ┤ H ├┤4           ├┤4              ├┤4           ├┤4              ├─░─»\n",
              "        └───┘└────────────┘└───────────────┘└────────────┘└───────────────┘ ░ »\n",
              "meas: 5/══════════════════════════════════════════════════════════════════════»\n",
              "                                                                              »\n",
              "«        ┌─┐            \n",
              "«   q_0: ┤M├────────────\n",
              "«        └╥┘┌─┐         \n",
              "«   q_1: ─╫─┤M├─────────\n",
              "«         ║ └╥┘┌─┐      \n",
              "«   q_2: ─╫──╫─┤M├──────\n",
              "«         ║  ║ └╥┘┌─┐   \n",
              "«   q_3: ─╫──╫──╫─┤M├───\n",
              "«         ║  ║  ║ └╥┘┌─┐\n",
              "«   q_4: ─╫──╫──╫──╫─┤M├\n",
              "«         ║  ║  ║  ║ └╥┘\n",
              "«meas: 5/═╩══╩══╩══╩══╩═\n",
              "«         0  1  2  3  4 </pre>"
            ]
          },
          "metadata": {},
          "execution_count": 9
        }
      ]
    },
    {
      "cell_type": "code",
      "source": [
        "#getting the results\n",
        "aer_sim = Aer.get_backend('aer_simulator')\n",
        "transpiled_grover_circuit = transpile(grover_circuit, aer_sim)\n",
        "qobj = assemble(transpiled_grover_circuit)\n",
        "results = aer_sim.run(qobj,iterations = 2).result()\n",
        "counts = results.get_counts()\n",
        "plot_histogram(counts)"
      ],
      "metadata": {
        "colab": {
          "base_uri": "https://localhost:8080/",
          "height": 360
        },
        "id": "ObZcxfcs6JZd",
        "outputId": "35889cdc-b9eb-4219-9a55-d8824b145d45"
      },
      "execution_count": null,
      "outputs": [
        {
          "output_type": "execute_result",
          "data": {
            "text/plain": [
              "<Figure size 504x360 with 1 Axes>"
            ],
            "image/png": "[encoded data removed]"
          },
          "metadata": {},
          "execution_count": 15
        }
      ]
    },
    {
      "cell_type": "markdown",
      "source": [
        "The correct possible combinations in dinner party are (11110) , (11000) , (11001) , (11010) , (11011). Each bit corresponds respectively to Alice,Bob,Charles,Dave and Eve."
      ],
      "metadata": {
        "id": "50RvsfBCZIF_"
      }
    },
    {
      "cell_type": "code",
      "source": [
        ""
      ],
      "metadata": {
        "id": "Yh6uMLpaaBhn"
      },
      "execution_count": null,
      "outputs": []
    }
  ]
}